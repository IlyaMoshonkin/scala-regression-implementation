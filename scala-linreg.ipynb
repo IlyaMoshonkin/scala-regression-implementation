{
 "cells": [
  {
   "cell_type": "code",
   "execution_count": 1,
   "id": "elementary-georgia",
   "metadata": {
    "scrolled": true
   },
   "outputs": [
    {
     "data": {
      "text/plain": [
       "Intitializing Scala interpreter ..."
      ]
     },
     "metadata": {},
     "output_type": "display_data"
    },
    {
     "data": {
      "text/plain": [
       "Spark Web UI available at http://0d722b1abf27:4040\n",
       "SparkContext available as 'sc' (version = 3.1.1, master = local[*], app id = local-1643558786947)\n",
       "SparkSession available as 'spark'\n"
      ]
     },
     "metadata": {},
     "output_type": "display_data"
    },
    {
     "data": {
      "text/plain": [
       "import scala.io._\n",
       "import breeze.linalg._\n",
       "import breeze.numerics._\n"
      ]
     },
     "execution_count": 1,
     "metadata": {},
     "output_type": "execute_result"
    }
   ],
   "source": [
    "import scala.io._\n",
    "import breeze.linalg._\n",
    "import breeze.numerics._"
   ]
  },
  {
   "cell_type": "code",
   "execution_count": 2,
   "id": "stone-pension",
   "metadata": {},
   "outputs": [
    {
     "data": {
      "text/plain": [
       "dataFile: scala.io.BufferedSource = <iterator>\n",
       "dataArray: Array[Array[Double]] = Array(Array(634995.0, 0.0, 463.0, 1.0, 0.0, 0.0, 0.0, 0.0, 0.0, 65.0, 166.0, 2.0, 24.0, 0.0, 0.0, 0.0, 1.0, 0.0, 0.0, 0.0, 0.0, 0.0, 0.0, 0.0, 0.0, 0.0, 1.0, 0.0), Array(634995.0, 0.0, 463.0, 1.0, 0.0, 0.0, 0.0, 0.0, 0.0, 10.0, 132.0, 1.0, 24.0, 0.0, 0.0, 0.0, 0.0, 1.0, 0.0, 0.0, 0.0, 0.0, 0.0, 0.0, 0.0, 1.0, 0.0, 0.0), Array(634995.0, 0.0, 463.0, 1.0, 0.0, 0.0, 0.0, 0.0, 0.0, 14.0, 133.0, 2.0, 24.0, 0.0, 0.0, 0.0, 0.0, 0.0, 1.0, 0.0, 0.0, 0.0, 0.0, 0.0, 0.0, 0.0, 1.0, 0.0), Array(634995.0, 0.0, 463.0, 1.0, 7.0, 0.0, 3.0, 7.0, -3.0, 62.0, 131.0, 1.0, 24.0, 0.0, 0.0, 0.0, 0.0, 0.0, 1.0, 0.0, 0.0, 1.0, 0.0, 0.0, 0.0, 0.0, 0.0, 0.0), Array(634995.0, 0.0, 463.0, 1.0, 1.0, 0.0, 0.0, 1.0, 0.0, 58.0, 142.0, 5.0, 2...\n"
      ]
     },
     "execution_count": 2,
     "metadata": {},
     "output_type": "execute_result"
    }
   ],
   "source": [
    "val dataFile = Source.fromFile(\"Dataset.csv\")\n",
    "\n",
    "val dataArray = dataFile.getLines.drop(1)\n",
    "                  .map(_.split(\",\").map(_.trim))\n",
    "                  .map { line => line.map { elem => \n",
    "                    elem match {\n",
    "                      case \"\" => 0.0\n",
    "                      case x => x.toDouble\n",
    "                    }\n",
    "                  }\n",
    "                }.toArray\n",
    "\n",
    "val dataMatrix = DenseMatrix(dataArray: _*)"
   ]
  },
  {
   "cell_type": "code",
   "execution_count": 3,
   "id": "intellectual-patrick",
   "metadata": {},
   "outputs": [
    {
     "data": {
      "text/plain": [
       "trainTestSplit: (data: breeze.linalg.DenseMatrix[Double], ratioOfTest: Double)(breeze.linalg.DenseMatrix[Double], breeze.linalg.DenseMatrix[Double])\n"
      ]
     },
     "execution_count": 3,
     "metadata": {},
     "output_type": "execute_result"
    }
   ],
   "source": [
    "def trainTestSplit(data: DenseMatrix[Double], ratioOfTest:Double): (DenseMatrix[Double], DenseMatrix[Double]) = {\n",
    "    val n = data.rows\n",
    "    val bound = ((n-1) * ratioOfTest).toInt\n",
    "    val train = data(0 until bound, ::)\n",
    "    val test = data(bound until n, ::)\n",
    "    return (train, test)\n",
    "}"
   ]
  },
  {
   "cell_type": "markdown",
   "id": "internal-farmer",
   "metadata": {},
   "source": [
    "Для тестовой выборки возьмем 25% налюдений от всеого датасета"
   ]
  },
  {
   "cell_type": "code",
   "execution_count": 4,
   "id": "forward-globe",
   "metadata": {},
   "outputs": [
    {
     "data": {
      "text/plain": [
       "train: breeze.linalg.DenseMatrix[Double] =\n",
       "634995.0  0.0  463.0  1.0  0.0   0.0   0.0   0.0   0.0    65.0  ... (28 total)\n",
       "634995.0  0.0  463.0  1.0  0.0   0.0   0.0   0.0   0.0    10.0  ...\n",
       "634995.0  0.0  463.0  1.0  0.0   0.0   0.0   0.0   0.0    14.0  ...\n",
       "634995.0  0.0  463.0  1.0  7.0   0.0   3.0   7.0   -3.0   62.0  ...\n",
       "634995.0  0.0  463.0  1.0  1.0   0.0   0.0   1.0   0.0    58.0  ...\n",
       "634995.0  0.0  463.0  1.0  0.0   0.0   0.0   0.0   0.0    60.0  ...\n",
       "634995.0  0.0  463.0  1.0  0.0   0.0   0.0   0.0   0.0    68.0  ...\n",
       "634995.0  0.0  463.0  1.0  1.0   0.0   1.0   1.0   -1.0   32.0  ...\n",
       "634995.0  0.0  463.0  1.0  0.0   0.0   0.0   0.0   0.0    35.0  ...\n",
       "634995.0  0.0  463.0  1.0  0.0   0.0   0.0   0.0   0.0    48.0  ...\n",
       "634995.0  0.0  463.0  1.0  0.0   0.0   0.0   0.0   0.0    52.0 ...\n"
      ]
     },
     "execution_count": 4,
     "metadata": {},
     "output_type": "execute_result"
    }
   ],
   "source": [
    "val (train, test) = trainTestSplit(dataMatrix, 0.25)"
   ]
  },
  {
   "cell_type": "code",
   "execution_count": 5,
   "id": "accessory-relevance",
   "metadata": {},
   "outputs": [
    {
     "data": {
      "text/plain": [
       "featuresTrain: breeze.linalg.DenseMatrix[Double] =\n",
       "634995.0  0.0  463.0  1.0  0.0   0.0   0.0   0.0   0.0    65.0  ... (27 total)\n",
       "634995.0  0.0  463.0  1.0  0.0   0.0   0.0   0.0   0.0    10.0  ...\n",
       "634995.0  0.0  463.0  1.0  0.0   0.0   0.0   0.0   0.0    14.0  ...\n",
       "634995.0  0.0  463.0  1.0  7.0   0.0   3.0   7.0   -3.0   62.0  ...\n",
       "634995.0  0.0  463.0  1.0  1.0   0.0   0.0   1.0   0.0    58.0  ...\n",
       "634995.0  0.0  463.0  1.0  0.0   0.0   0.0   0.0   0.0    60.0  ...\n",
       "634995.0  0.0  463.0  1.0  0.0   0.0   0.0   0.0   0.0    68.0  ...\n",
       "634995.0  0.0  463.0  1.0  1.0   0.0   1.0   1.0   -1.0   32.0  ...\n",
       "634995.0  0.0  463.0  1.0  0.0   0.0   0.0   0.0   0.0    35.0  ...\n",
       "634995.0  0.0  463.0  1.0  0.0   0.0   0.0   0.0   0.0    48.0  ...\n",
       "634995.0  0.0  463.0  1.0  0.0   0.0   0.0   0.0   0.0 ...\n"
      ]
     },
     "execution_count": 5,
     "metadata": {},
     "output_type": "execute_result"
    }
   ],
   "source": [
    "val featuresTrain = train(::, 0 to -2)\n",
    "val targetTrain = train(::, -1)\n",
    "\n",
    "val featuresTest = test(::, 0 to -2)\n",
    "val targetTest = test(::, -1)"
   ]
  },
  {
   "cell_type": "markdown",
   "id": "composite-singapore",
   "metadata": {},
   "source": [
    "Реализуем обучение линейной регрессии через алгоритм градиентного спуска"
   ]
  },
  {
   "cell_type": "code",
   "execution_count": 6,
   "id": "acute-allah",
   "metadata": {},
   "outputs": [
    {
     "data": {
      "text/plain": [
       "trainLinReg: (X: breeze.linalg.DenseMatrix[Double], y: breeze.linalg.DenseVector[Double], numIter: Int, alpha: Double)breeze.linalg.DenseVector[Double]\n",
       "predict: (X: breeze.linalg.DenseMatrix[Double], w: breeze.linalg.DenseVector[Double])breeze.linalg.DenseVector[Double]\n"
      ]
     },
     "execution_count": 6,
     "metadata": {},
     "output_type": "execute_result"
    }
   ],
   "source": [
    "def trainLinReg(X: DenseMatrix[Double], y: DenseVector[Double], numIter: Int = 20, alpha: Double = 0.01): DenseVector[Double] = {\n",
    "    var w = DenseVector.rand(X.cols)\n",
    "    val n: Double = X.rows\n",
    "    for (i <- 1 to numIter) {\n",
    "        var f = X * w\n",
    "        var error = f - y\n",
    "        var grad = 2.0 * (X.t * error) / n\n",
    "        w = w - alpha * grad\n",
    "    }\n",
    "    return w\n",
    "}\n",
    "\n",
    "def predict(X: DenseMatrix[Double], w:DenseVector[Double]): DenseVector[Double] = {\n",
    "    return X * w\n",
    "}"
   ]
  },
  {
   "cell_type": "code",
   "execution_count": 7,
   "id": "reported-office",
   "metadata": {},
   "outputs": [
    {
     "data": {
      "text/plain": [
       "weights: breeze.linalg.DenseVector[Double] = DenseVector(1.8032794918771426E233, 2.156304423476893E230, 2.3541970263082264E231, 1.680576105442526E227, 1.6538740085059022E228, 6.451103580277025E227, 5.910127485227203E227, 1.5038886402755215E228, 5.409742185718964E226, 4.123220755417183E227, 1.964182401774456E228, 3.5565138433648566E228, 2.71411490568921E227, 1.3529452582900324E225, 1.3322692664267227E225, 1.9166326545756707E225, 1.816516560906045E225, 1.1695706412874153E225, 1.545285761661659E225, 1.4395912119907012E225, 1.5351011673210257E225, 9.419680281657445E223, 1.553741536337222E225, 1.8566796717449824E225, 1.8337355238029313E225, 1.544260109322657E225, 1.6012047739849653E225)\n",
       "targetPred: breeze.linalg.DenseVector[Double] = DenseVector(1.7127144277615708E238, 1.712714429088981E238,...\n"
      ]
     },
     "execution_count": 7,
     "metadata": {},
     "output_type": "execute_result"
    }
   ],
   "source": [
    "val weights = trainLinReg(featuresTrain, targetTrain)\n",
    "\n",
    "val targetPred = predict(featuresTest, weights)"
   ]
  },
  {
   "cell_type": "markdown",
   "id": "determined-swiss",
   "metadata": {},
   "source": [
    "В качестве метрик используем стандартные MSE, MAE и sMAPE как хорошо интерпретируемую метрику."
   ]
  },
  {
   "cell_type": "code",
   "execution_count": 8,
   "id": "oriental-sweden",
   "metadata": {
    "scrolled": true
   },
   "outputs": [
    {
     "data": {
      "text/plain": [
       "MeanSquareError: (yTrue: breeze.linalg.DenseVector[Double], yPred: breeze.linalg.DenseVector[Double])Double\n",
       "MeanAbsoluteError: (yTrue: breeze.linalg.DenseVector[Double], yPred: breeze.linalg.DenseVector[Double])Double\n",
       "sMeanAbsolutePercentageError: (yTrue: breeze.linalg.DenseVector[Double], yPred: breeze.linalg.DenseVector[Double])Double\n",
       "calculateMetrics: (targetTest: breeze.linalg.DenseVector[Double], targetPred: breeze.linalg.DenseVector[Double])Map[String,Double]\n"
      ]
     },
     "execution_count": 8,
     "metadata": {},
     "output_type": "execute_result"
    }
   ],
   "source": [
    "def MeanSquareError(yTrue:DenseVector[Double], yPred:DenseVector[Double]): Double = {\n",
    "    val n = yTrue.length.toDouble\n",
    "    val result =  (1.0/n) * sum(sqrt(yTrue-yPred))\n",
    "    return result.toDouble\n",
    "}\n",
    "\n",
    "def MeanAbsoluteError(yTrue:DenseVector[Double], yPred:DenseVector[Double]): Double = {\n",
    "    val n = yTrue.length.toDouble\n",
    "    val result =  (1.0/n) * sum(abs(yTrue-yPred))\n",
    "    return result.toDouble\n",
    "}\n",
    "\n",
    "def sMeanAbsolutePercentageError(yTrue:DenseVector[Double], yPred:DenseVector[Double]): Double = {\n",
    "    val n = yTrue.length.toDouble\n",
    "    val result =  (1.0/n) * sum( abs(yTrue-yPred) / (abs(yTrue)+abs(yPred)) / 2.0 )\n",
    "    return result.toDouble\n",
    "}\n",
    "\n",
    "def calculateMetrics(targetTest:DenseVector[Double], targetPred:DenseVector[Double]): Map[String, Double] = {\n",
    "    val mse = MeanSquareError(targetTest, targetPred)\n",
    "    val mae = MeanAbsoluteError(targetTest, targetPred)\n",
    "    val smape = sMeanAbsolutePercentageError(targetTest, targetPred)\n",
    "    return Map(\"mse\" -> mse, \"mae\" -> mae, \"smape\" -> smape)\n",
    "}"
   ]
  },
  {
   "cell_type": "code",
   "execution_count": 9,
   "id": "stupid-alabama",
   "metadata": {},
   "outputs": [
    {
     "data": {
      "text/plain": [
       "res0: Map[String,Double] = Map(mse -> NaN, mae -> 2.2764901113457106E239, smape -> 0.5)\n"
      ]
     },
     "execution_count": 9,
     "metadata": {},
     "output_type": "execute_result"
    }
   ],
   "source": [
    "calculateMetrics(targetTest, targetPred)"
   ]
  },
  {
   "cell_type": "markdown",
   "id": "industrial-birth",
   "metadata": {},
   "source": [
    "На первый взялт метрики показывают приемлемы результат. Проверим модель на адекватность сравнив с константой моделью"
   ]
  },
  {
   "cell_type": "code",
   "execution_count": 10,
   "id": "specified-johnston",
   "metadata": {},
   "outputs": [
    {
     "data": {
      "text/plain": [
       "targetMean: Double = 8.890006837940803\n",
       "constantAnswer: breeze.linalg.DenseVector[Double] = DenseVector(8.890006837940803, 8.890006837940803, 8.890006837940803, 8.890006837940803, 8.890006837940803, 8.890006837940803, 8.890006837940803, 8.890006837940803, 8.890006837940803, 8.890006837940803, 8.890006837940803, 8.890006837940803, 8.890006837940803, 8.890006837940803, 8.890006837940803, 8.890006837940803, 8.890006837940803, 8.890006837940803, 8.890006837940803, 8.890006837940803, 8.890006837940803, 8.890006837940803, 8.890006837940803, 8.890006837940803, 8.890006837940803, 8.890006837940803, 8.890006837940803, 8.890006837940803, 8.890006837940803, 8.890006837940803, 8.890006837940803, 8.890006837940803, 8.890006837940803, 8.890006837940803, 8.890006837940803, 8.890006837940803, 8.89000683...\n"
      ]
     },
     "execution_count": 10,
     "metadata": {},
     "output_type": "execute_result"
    }
   ],
   "source": [
    "val targetMean = sum(targetTrain) / targetTrain.length\n",
    "\n",
    "val constantAnswer = targetMean * DenseVector.ones[Double](targetTest.length)\n",
    "\n",
    "calculateMetrics(targetTest, constantAnswer)"
   ]
  },
  {
   "cell_type": "code",
   "execution_count": 11,
   "id": "mineral-manchester",
   "metadata": {},
   "outputs": [
    {
     "data": {
      "text/plain": [
       "res2: Map[String,Double] = Map(mse -> NaN, mae -> 11.818201309355404, smape -> 0.3984128505303032)\n"
      ]
     },
     "execution_count": 11,
     "metadata": {},
     "output_type": "execute_result"
    }
   ],
   "source": [
    "calculateMetrics(targetTest, constantAnswer)"
   ]
  },
  {
   "cell_type": "markdown",
   "id": "aware-favorite",
   "metadata": {},
   "source": [
    "Абсолютная ошибка константной модели заметно выше. Метрика в процентных значениях получилась лучше"
   ]
  }
 ],
 "metadata": {
  "kernelspec": {
   "display_name": "spylon-kernel",
   "language": "scala",
   "name": "spylon-kernel"
  },
  "language_info": {
   "codemirror_mode": "text/x-scala",
   "file_extension": ".scala",
   "help_links": [
    {
     "text": "MetaKernel Magics",
     "url": "https://metakernel.readthedocs.io/en/latest/source/README.html"
    }
   ],
   "mimetype": "text/x-scala",
   "name": "scala",
   "pygments_lexer": "scala",
   "version": "0.4.1"
  }
 },
 "nbformat": 4,
 "nbformat_minor": 5
}
